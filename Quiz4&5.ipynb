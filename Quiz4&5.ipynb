{
 "cells": [
  {
   "cell_type": "code",
   "execution_count": null,
   "id": "157604f4-ecb2-4057-afad-6c66fea52308",
   "metadata": {},
   "outputs": [],
   "source": [
    "import sqlite3\n",
    "import matplotlib.pyplot as plt\n",
    "import pandas as pd"
   ]
  },
  {
   "cell_type": "code",
   "execution_count": null,
   "id": "79b4cd9f-9532-498b-b8ce-93d4d536cf8c",
   "metadata": {},
   "outputs": [],
   "source": [
    "# 1. ბაზასთან კავშირის დამყარება\n",
    "conn = sqlite3.connect('euro_summary.sqlite3')\n",
    "cursor = conn.cursor()"
   ]
  },
  {
   "cell_type": "code",
   "execution_count": null,
   "id": "6bb382a8-21bf-464c-8612-07cf59f70331",
   "metadata": {},
   "outputs": [],
   "source": [
    "# 2. არსებული ცხრილების შემოწმება\n",
    "cursor.execute(\"SELECT name FROM sqlite_master WHERE type='table';\")\n",
    "tables = cursor.fetchall()\n",
    "print(\"არსებული ცხრილები:\", tables)\n",
    "\n",
    "try:\n",
    "    df = pd.read_sql(\"SELECT * FROM euro_summary\", conn)\n",
    "    print(\"მონაცემები წარმატებით ჩაიტვირთა:\")\n",
    "    print(df.head())\n",
    "    \n",
    "except Exception as e:\n",
    "    print(f\"შეცდომა მონაცემების ჩატვირთვისას: {e}\")\n",
    "    df = pd.DataFrame(columns=['Year', 'Winner', 'Final_Result', 'Matches', 'Goals', 'Red_Cards', 'Attendance'])\n",
    "    print(\"შეიქმნა ცარიელი DataFrame\")"
   ]
  },
  {
   "cell_type": "code",
   "execution_count": null,
   "id": "115ef4d1-78d2-4185-a90f-99aacecacad3",
   "metadata": {},
   "outputs": [],
   "source": [
    "# 3. ფუნქცია გამარჯვებულის მოსაძებნად წლის მიხედვით\n",
    "def euro_winner(year):\n",
    "    \"\"\"წელიწადის მიხედვით აბრუნებს ევროპის ჩემპიონატის გამარჯვებულს\"\"\"\n",
    "    cursor.execute('SELECT Winner FROM euro_summary WHERE Year=?', (year,))\n",
    "    result = cursor.fetchone()\n",
    "    return result[0] if result else None\n",
    "\n",
    "\n",
    "# ტესტირება\n",
    "try:\n",
    "    print(\"2016 წლის ევროპის ჩემპიონატის გამარჯვებული :\", euro_winner(2016))\n",
    "    print(\"2020 წლის ევროპის ჩემპიონატის გამარჯვებული:\", euro_winner(2020))\n",
    "    print(\"2024  წლის ევროპის ჩემპიონატის გამარჯვებული:\", euro_winner(2024))\n",
    "    \n",
    "except Exception as e:\n",
    "    print(f\"შეცდომა: {e}\")"
   ]
  },
  {
   "cell_type": "code",
   "execution_count": null,
   "id": "8f7ad53d-3a23-47c7-97e0-2e19e20cc26b",
   "metadata": {},
   "outputs": [],
   "source": [
    "# 4. გამარჯვებულის განახლება\n",
    "try:\n",
    "    new_winners_year = int(input('შეიყვანეთ წელი: '))\n",
    "    new_winner = input('შეიყვანეთ ახალი გამარჯვებული ქვეყანა: ')\n",
    "\n",
    "    if new_winners_year % 4 != 0:\n",
    "        raise ValueError('ევროპის ჩემპიონატი ფეხბურთში მხოლოდ ნაკიან წლებში იმართება!')\n",
    "\n",
    "    cursor.execute(\"UPDATE euro_summary SET Winner = ? WHERE Year = ?\", (new_winner, new_winners_year))\n",
    "    conn.commit()\n",
    "    print(f\"{new_winners_year} წლის გამარჯვებული განახლებულია: {new_winner}\")\n",
    "except ValueError as ve:\n",
    "    print(f\"შეცდომა: {ve}\")\n",
    "except Exception as e:\n",
    "    print(f\"მოულოდნელი შეცდომა: {e}\")\n"
   ]
  },
  {
   "cell_type": "code",
   "execution_count": null,
   "id": "803ccd78-278d-498c-86f8-e9278d072492",
   "metadata": {},
   "outputs": [],
   "source": [
    "# 5. ახალი ჩანაწერის დამატება ან განახლება\n",
    "try:\n",
    "    new_winner = input('\\nშეიყვანეთ გამარჯვებული ქვეყანა: ')\n",
    "    new_year = int(input('შეიყვანეთ წელი: '))\n",
    "\n",
    "    if new_year % 4 != 0:\n",
    "        raise ValueError('ევროპის ჩემპიონატი ფეხბურთში მხოლოდ ნაკიან წლებში იმართება!')\n",
    "\n",
    "    cursor.execute('SELECT Year FROM euro_summary WHERE Year = ?', (new_year,))\n",
    "    existing_record = cursor.fetchone()\n",
    "\n",
    "    if existing_record:\n",
    "        cursor.execute('UPDATE euro_summary SET Winner = ? WHERE Year = ?',\n",
    "                       (new_winner, new_year))\n",
    "        action = \"განახლებულია\"\n",
    "    else:\n",
    "        cursor.execute('INSERT INTO euro_summary (Year, Winner) VALUES (?, ?)',\n",
    "                       (new_year, new_winner))\n",
    "        action = \"დამატებულია\"\n",
    "\n",
    "    conn.commit()\n",
    "    print(f\"{new_year} წლის ჩანაწერი {action}!\")\n",
    "except ValueError as ve:\n",
    "    print(f\"შეცდომა: {ve}\")\n",
    "except Exception as e:\n",
    "    print(f\"მოულოდნელი შეცდომა: {e}\")\n"
   ]
  },
  {
   "cell_type": "code",
   "execution_count": null,
   "id": "35bbe166-4668-4b10-a267-6031fbb5ed2b",
   "metadata": {},
   "outputs": [],
   "source": [
    "# 6. ჩანაწერის წაშლა\n",
    "try:\n",
    "    year_to_delete = int(input('\\nშეიყვანეთ წელი წასაშლელად: '))\n",
    "    cursor.execute('DELETE FROM euro_summary WHERE Year = ?', (year_to_delete,))\n",
    "    conn.commit()\n",
    "\n",
    "    if cursor.rowcount > 0:\n",
    "        print(f'წარმატებით წაიშალა {cursor.rowcount} ჩანაწერი {year_to_delete} წლისთვის')\n",
    "    else:\n",
    "        print(f'{year_to_delete} წელს არ მოიძებნა ჩანაწერები ბაზაში')\n",
    "except Exception as e:\n",
    "    print(f\"შეცდომა: {e}\")"
   ]
  },
  {
   "cell_type": "code",
   "execution_count": null,
   "id": "fc25ed05-f343-4d82-8563-e6d1e615cf44",
   "metadata": {},
   "outputs": [],
   "source": [
    "# 7. მონაცემთა ვიზუალიზაცია\n",
    "def visualize_data():\n",
    "    \"\"\"მონაცემთა ვიზუალიზაცია სხვადასხვა დიაგრამებში\"\"\"\n",
    "    df = pd.read_sql(\"SELECT * FROM euro_summary ORDER BY Year\", conn)\n"
   ]
  },
  {
   "cell_type": "code",
   "execution_count": null,
   "id": "fb2ab4be-13ce-4fe0-ac91-8f06e3d447fe",
   "metadata": {},
   "outputs": [],
   "source": [
    "# დიაგრამა 1: გოლების რაოდენობა წლების მიხედვით\n",
    "plt.figure(figsize=(10, 5))\n",
    "plt.bar(df['Year'].astype(str), df['Goals'], color='green')\n",
    "plt.title(\"გოლების რაოდენობა ჩემპიონატებში\")\n",
    "plt.xlabel(\"წელი\")\n",
    "plt.ylabel(\"გოლები\")\n",
    "plt.xticks(rotation=45)\n",
    "plt.show()"
   ]
  },
  {
   "cell_type": "code",
   "execution_count": null,
   "id": "d325d0f9-83e9-468a-ac05-be6c7c14839b",
   "metadata": {},
   "outputs": [],
   "source": [
    "# დიაგრამა 2: მაყურებლების რაოდენობის წრიული დიაგრამა\n",
    "df_clean = df.dropna(subset=['Attendance'])\n",
    "\n",
    "if df_clean.empty:\n",
    "    print(\"მონაცემები მაყურებლების შესახებ არ არის საკმარისი პაი დიაგრამისთვის.\")\n",
    "else:\n",
    "    plt.figure(figsize=(8, 8))\n",
    "    plt.pie(df_clean['Attendance'], labels=df_clean['Year'].astype(str), autopct='%1.1f%%')\n",
    "    plt.title(\"მაყურებლების განაწილება წლების მიხედვით\")\n",
    "    plt.show()"
   ]
  },
  {
   "cell_type": "code",
   "execution_count": null,
   "id": "d65f61df-9798-40f2-9521-37d85caef731",
   "metadata": {},
   "outputs": [],
   "source": [
    "# დიაგრამა 3: თამაშების და გოლების ტენდენცია\n",
    "plt.figure(figsize=(10, 5))\n",
    "plt.plot(df['Year'].astype(str), df['Matches'], marker='o', label='თამაშები')\n",
    "plt.plot(df['Year'].astype(str), df['Goals'], marker='s', label='გოლები')\n",
    "plt.title(\"თამაშების და გოლების დინამიკა\")\n",
    "plt.xlabel(\"წელი\")\n",
    "plt.ylabel(\"რაოდენობა\")\n",
    "plt.legend()\n",
    "plt.grid(True)\n",
    "plt.show()"
   ]
  },
  {
   "cell_type": "code",
   "execution_count": null,
   "id": "f5952eb9-3b09-47ee-b5b1-d127c8603da0",
   "metadata": {},
   "outputs": [],
   "source": [
    "visualize_data()"
   ]
  },
  {
   "cell_type": "code",
   "execution_count": null,
   "id": "9d8d879d-4cdc-42e7-8774-1a854104f689",
   "metadata": {},
   "outputs": [],
   "source": [
    "# 8. ბაზასთან კავშირის დახურვა\n",
    "conn.close()\n",
    "print(\"\\nბაზასთან კავშირი დახურულია.\")"
   ]
  }
 ],
 "metadata": {
  "kernelspec": {
   "display_name": "Python 3 (ipykernel)",
   "language": "python",
   "name": "python3"
  },
  "language_info": {
   "codemirror_mode": {
    "name": "ipython",
    "version": 3
   },
   "file_extension": ".py",
   "mimetype": "text/x-python",
   "name": "python",
   "nbconvert_exporter": "python",
   "pygments_lexer": "ipython3",
   "version": "3.12.3"
  }
 },
 "nbformat": 4,
 "nbformat_minor": 5
}
